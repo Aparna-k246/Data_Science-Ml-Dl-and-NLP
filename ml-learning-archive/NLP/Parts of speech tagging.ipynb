{
 "cells": [
  {
   "cell_type": "code",
   "execution_count": 2,
   "id": "286f51af",
   "metadata": {},
   "outputs": [],
   "source": [
    "paragraph=\"\"\"Born and raised in a Muslim family in Rameswaram, Tamil Nadu, Kalam studied physics and aerospace engineering. He spent the next four decades as a scientist and science administrator, mainly at the Defence Research and Development Organisation (DRDO) and Indian Space Research Organisation (ISRO) and was intimately involved in India's civilian space programme and military missile development efforts. He was known as the \"Missile Man of India\" for his work on the development of ballistic missile and launch vehicle technology. He also played a pivotal organisational, technical, and political role in Pokhran-II nuclear tests in 1998, India's second such test after the first test in 1974.\n",
    "\n",
    "Kalam was elected as the president of India in 2002 with the support of both the ruling Bharatiya Janata Party and the then-opposition Indian National Congress. He was widely referred to as the \"People's President\". He engaged in teaching, writing and public service after his presidency. He was a recipient of several awards, including the Bharat Ratna, India's highest civilian honour.\n",
    "\n",
    "While delivering a lecture at IIM Shillong, Kalam collapsed and died from an apparent cardiac arrest on 27 July 2015, aged 83. Thousands attended the funeral ceremony held in his hometown of Rameswaram, where he was buried with full state honours. A memorial was inaugurated near his home town in 2017. \"\"\""
   ]
  },
  {
   "cell_type": "code",
   "execution_count": 3,
   "id": "babdc26c",
   "metadata": {},
   "outputs": [],
   "source": [
    "import nltk"
   ]
  },
  {
   "cell_type": "code",
   "execution_count": 6,
   "id": "95757d57",
   "metadata": {},
   "outputs": [],
   "source": [
    "from nltk.corpus import stopwords\n",
    "sentences=nltk.sent_tokenize(paragraph)"
   ]
  },
  {
   "cell_type": "code",
   "execution_count": 7,
   "id": "ca49e03a",
   "metadata": {},
   "outputs": [
    {
     "data": {
      "text/plain": [
       "['Born and raised in a Muslim family in Rameswaram, Tamil Nadu, Kalam studied physics and aerospace engineering.',\n",
       " \"He spent the next four decades as a scientist and science administrator, mainly at the Defence Research and Development Organisation (DRDO) and Indian Space Research Organisation (ISRO) and was intimately involved in India's civilian space programme and military missile development efforts.\",\n",
       " 'He was known as the \"Missile Man of India\" for his work on the development of ballistic missile and launch vehicle technology.',\n",
       " \"He also played a pivotal organisational, technical, and political role in Pokhran-II nuclear tests in 1998, India's second such test after the first test in 1974.\",\n",
       " 'Kalam was elected as the president of India in 2002 with the support of both the ruling Bharatiya Janata Party and the then-opposition Indian National Congress.',\n",
       " 'He was widely referred to as the \"People\\'s President\".',\n",
       " 'He engaged in teaching, writing and public service after his presidency.',\n",
       " \"He was a recipient of several awards, including the Bharat Ratna, India's highest civilian honour.\",\n",
       " 'While delivering a lecture at IIM Shillong, Kalam collapsed and died from an apparent cardiac arrest on 27 July 2015, aged 83.',\n",
       " 'Thousands attended the funeral ceremony held in his hometown of Rameswaram, where he was buried with full state honours.',\n",
       " 'A memorial was inaugurated near his home town in 2017.']"
      ]
     },
     "execution_count": 7,
     "metadata": {},
     "output_type": "execute_result"
    }
   ],
   "source": [
    "sentences"
   ]
  },
  {
   "cell_type": "code",
   "execution_count": 11,
   "id": "229205c6",
   "metadata": {},
   "outputs": [
    {
     "name": "stderr",
     "output_type": "stream",
     "text": [
      "[nltk_data] Downloading package averaged_perceptron_tagger_eng to\n",
      "[nltk_data]     C:\\Users\\aparn\\AppData\\Roaming\\nltk_data...\n",
      "[nltk_data]   Unzipping taggers\\averaged_perceptron_tagger_eng.zip.\n"
     ]
    },
    {
     "data": {
      "text/plain": [
       "True"
      ]
     },
     "execution_count": 11,
     "metadata": {},
     "output_type": "execute_result"
    }
   ],
   "source": [
    "nltk.download('averaged_perceptron_tagger_eng')"
   ]
  },
  {
   "cell_type": "code",
   "execution_count": 12,
   "id": "78eadea9",
   "metadata": {},
   "outputs": [
    {
     "name": "stdout",
     "output_type": "stream",
     "text": [
      "[('Born', 'NNP'), ('raised', 'VBD'), ('Muslim', 'NNP'), ('family', 'NN'), ('Rameswaram', 'NNP'), (',', ','), ('Tamil', 'NNP'), ('Nadu', 'NNP'), (',', ','), ('Kalam', 'NNP'), ('studied', 'VBD'), ('physics', 'NNS'), ('aerospace', 'NN'), ('engineering', 'NN'), ('.', '.')]\n",
      "[('He', 'PRP'), ('spent', 'VBD'), ('next', 'JJ'), ('four', 'CD'), ('decades', 'NNS'), ('scientist', 'JJ'), ('science', 'NN'), ('administrator', 'NN'), (',', ','), ('mainly', 'RB'), ('Defence', 'NNP'), ('Research', 'NNP'), ('Development', 'NNP'), ('Organisation', 'NNP'), ('(', '('), ('DRDO', 'NNP'), (')', ')'), ('Indian', 'JJ'), ('Space', 'NNP'), ('Research', 'NNP'), ('Organisation', 'NNP'), ('(', '('), ('ISRO', 'NNP'), (')', ')'), ('intimately', 'RB'), ('involved', 'JJ'), ('India', 'NNP'), (\"'s\", 'POS'), ('civilian', 'JJ'), ('space', 'NN'), ('programme', 'NN'), ('military', 'JJ'), ('missile', 'NN'), ('development', 'NN'), ('efforts', 'NNS'), ('.', '.')]\n",
      "[('He', 'PRP'), ('known', 'VBZ'), ('``', '``'), ('Missile', 'NNP'), ('Man', 'NN'), ('India', 'NNP'), (\"''\", \"''\"), ('work', 'NN'), ('development', 'NN'), ('ballistic', 'JJ'), ('missile', 'NN'), ('launch', 'NN'), ('vehicle', 'NN'), ('technology', 'NN'), ('.', '.')]\n",
      "[('He', 'PRP'), ('also', 'RB'), ('played', 'VBD'), ('pivotal', 'JJ'), ('organisational', 'JJ'), (',', ','), ('technical', 'JJ'), (',', ','), ('political', 'JJ'), ('role', 'NN'), ('Pokhran-II', 'JJ'), ('nuclear', 'JJ'), ('tests', 'NNS'), ('1998', 'CD'), (',', ','), ('India', 'NNP'), (\"'s\", 'POS'), ('second', 'JJ'), ('test', 'NN'), ('first', 'RB'), ('test', 'NN'), ('1974', 'CD'), ('.', '.')]\n",
      "[('Kalam', 'NNP'), ('elected', 'VBD'), ('president', 'NN'), ('India', 'NNP'), ('2002', 'CD'), ('support', 'NN'), ('ruling', 'VBG'), ('Bharatiya', 'NNP'), ('Janata', 'NNP'), ('Party', 'NNP'), ('then-opposition', 'NN'), ('Indian', 'NNP'), ('National', 'NNP'), ('Congress', 'NNP'), ('.', '.')]\n",
      "[('He', 'PRP'), ('widely', 'RB'), ('referred', 'VBD'), ('``', '``'), ('People', 'NNP'), (\"'s\", 'POS'), ('President', 'NNP'), (\"''\", \"''\"), ('.', '.')]\n",
      "[('He', 'PRP'), ('engaged', 'VBD'), ('teaching', 'NN'), (',', ','), ('writing', 'VBG'), ('public', 'JJ'), ('service', 'NN'), ('presidency', 'NN'), ('.', '.')]\n",
      "[('He', 'PRP'), ('recipient', 'VBD'), ('several', 'JJ'), ('awards', 'NNS'), (',', ','), ('including', 'VBG'), ('Bharat', 'NNP'), ('Ratna', 'NNP'), (',', ','), ('India', 'NNP'), (\"'s\", 'POS'), ('highest', 'JJS'), ('civilian', 'JJ'), ('honour', 'NN'), ('.', '.')]\n",
      "[('While', 'IN'), ('delivering', 'VBG'), ('lecture', 'NN'), ('IIM', 'NNP'), ('Shillong', 'NNP'), (',', ','), ('Kalam', 'NNP'), ('collapsed', 'VBD'), ('died', 'JJ'), ('apparent', 'JJ'), ('cardiac', 'NN'), ('arrest', 'NN'), ('27', 'CD'), ('July', 'NNP'), ('2015', 'CD'), (',', ','), ('aged', 'VBD'), ('83', 'CD'), ('.', '.')]\n",
      "[('Thousands', 'NNS'), ('attended', 'VBD'), ('funeral', 'JJ'), ('ceremony', 'NN'), ('held', 'VBD'), ('hometown', 'JJ'), ('Rameswaram', 'NNP'), (',', ','), ('buried', 'VBD'), ('full', 'JJ'), ('state', 'NN'), ('honours', 'NNS'), ('.', '.')]\n",
      "[('A', 'DT'), ('memorial', 'JJ'), ('inaugurated', 'JJ'), ('near', 'IN'), ('home', 'NN'), ('town', 'NN'), ('2017', 'CD'), ('.', '.')]\n"
     ]
    }
   ],
   "source": [
    "### Finding postag\n",
    "\n",
    "for i in range(len(sentences)):\n",
    "    words=nltk.word_tokenize(sentences[i])\n",
    "    words=[word for word in words if word not in set(stopwords.words('english'))]\n",
    "    #sentences[i]=' '.join(words)# converting all the wors into sentences\n",
    "    pos_tag=nltk.pos_tag(words)\n",
    "    print(pos_tag)"
   ]
  },
  {
   "cell_type": "code",
   "execution_count": 15,
   "id": "a7c81db9",
   "metadata": {},
   "outputs": [
    {
     "name": "stdout",
     "output_type": "stream",
     "text": [
      "[('Taj', 'NNP'), ('Mahal', 'NNP'), ('is', 'VBZ'), ('a', 'DT'), ('beautiful', 'JJ'), ('Monument', 'NN')]\n"
     ]
    }
   ],
   "source": [
    "\n",
    "print(nltk.pos_tag(\"Taj Mahal is a beautiful Monument\".split()))"
   ]
  },
  {
   "cell_type": "code",
   "execution_count": null,
   "id": "0cb5d41e",
   "metadata": {},
   "outputs": [],
   "source": []
  },
  {
   "cell_type": "code",
   "execution_count": null,
   "id": "ca31937b",
   "metadata": {},
   "outputs": [],
   "source": []
  },
  {
   "cell_type": "code",
   "execution_count": null,
   "id": "7d36d1ac",
   "metadata": {},
   "outputs": [],
   "source": []
  }
 ],
 "metadata": {
  "kernelspec": {
   "display_name": "Python 3",
   "language": "python",
   "name": "python3"
  },
  "language_info": {
   "codemirror_mode": {
    "name": "ipython",
    "version": 3
   },
   "file_extension": ".py",
   "mimetype": "text/x-python",
   "name": "python",
   "nbconvert_exporter": "python",
   "pygments_lexer": "ipython3",
   "version": "3.12.9"
  }
 },
 "nbformat": 4,
 "nbformat_minor": 5
}
